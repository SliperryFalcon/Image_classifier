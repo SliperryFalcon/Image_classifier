{
 "cells": [
  {
   "cell_type": "code",
   "execution_count": 1,
   "metadata": {},
   "outputs": [
    {
     "name": "stderr",
     "output_type": "stream",
     "text": [
      "C:\\Users\\rajdeep\\Anaconda3\\lib\\site-packages\\h5py\\__init__.py:34: FutureWarning: Conversion of the second argument of issubdtype from `float` to `np.floating` is deprecated. In future, it will be treated as `np.float64 == np.dtype(float).type`.\n",
      "  from ._conv import register_converters as _register_converters\n",
      "Using TensorFlow backend.\n"
     ]
    }
   ],
   "source": [
    "#Load the data\n",
    "from keras.datasets import cifar10\n",
    "(x_train, y_train), (x_test, y_test) = cifar10.load_data()"
   ]
  },
  {
   "cell_type": "code",
   "execution_count": 2,
   "metadata": {},
   "outputs": [
    {
     "name": "stdout",
     "output_type": "stream",
     "text": [
      "<class 'numpy.ndarray'>\n",
      "<class 'numpy.ndarray'>\n",
      "<class 'numpy.ndarray'>\n",
      "<class 'numpy.ndarray'>\n"
     ]
    }
   ],
   "source": [
    "#explore the data\n",
    "\n",
    "#Print the data type of x_train\n",
    "print(type(x_train))\n",
    "#Print the data type of y_train\n",
    "print(type(y_train))\n",
    "#Print the data type of x_test\n",
    "print(type(x_test))\n",
    "#Print the data type of y_test\n",
    "print(type(y_test))\n"
   ]
  },
  {
   "cell_type": "code",
   "execution_count": 3,
   "metadata": {},
   "outputs": [
    {
     "name": "stdout",
     "output_type": "stream",
     "text": [
      "x_train shape: (50000, 32, 32, 3)\n",
      "y_train shape: (50000, 1)\n",
      "x_test shape: (10000, 32, 32, 3)\n",
      "y_test shape: (10000, 1)\n"
     ]
    }
   ],
   "source": [
    "#Get the shape of x_train\n",
    "print('x_train shape:', x_train.shape)\n",
    "#Get the shape of y_train\n",
    "print('y_train shape:', y_train.shape)\n",
    "#Get the shape of x_train\n",
    "print('x_test shape:', x_test.shape)\n",
    "#Get the shape of y_train\n",
    "print('y_test shape:', y_test.shape)"
   ]
  },
  {
   "cell_type": "code",
   "execution_count": 4,
   "metadata": {},
   "outputs": [
    {
     "data": {
      "text/plain": [
       "array([[[ 59,  62,  63],\n",
       "        [ 43,  46,  45],\n",
       "        [ 50,  48,  43],\n",
       "        ...,\n",
       "        [158, 132, 108],\n",
       "        [152, 125, 102],\n",
       "        [148, 124, 103]],\n",
       "\n",
       "       [[ 16,  20,  20],\n",
       "        [  0,   0,   0],\n",
       "        [ 18,   8,   0],\n",
       "        ...,\n",
       "        [123,  88,  55],\n",
       "        [119,  83,  50],\n",
       "        [122,  87,  57]],\n",
       "\n",
       "       [[ 25,  24,  21],\n",
       "        [ 16,   7,   0],\n",
       "        [ 49,  27,   8],\n",
       "        ...,\n",
       "        [118,  84,  50],\n",
       "        [120,  84,  50],\n",
       "        [109,  73,  42]],\n",
       "\n",
       "       ...,\n",
       "\n",
       "       [[208, 170,  96],\n",
       "        [201, 153,  34],\n",
       "        [198, 161,  26],\n",
       "        ...,\n",
       "        [160, 133,  70],\n",
       "        [ 56,  31,   7],\n",
       "        [ 53,  34,  20]],\n",
       "\n",
       "       [[180, 139,  96],\n",
       "        [173, 123,  42],\n",
       "        [186, 144,  30],\n",
       "        ...,\n",
       "        [184, 148,  94],\n",
       "        [ 97,  62,  34],\n",
       "        [ 83,  53,  34]],\n",
       "\n",
       "       [[177, 144, 116],\n",
       "        [168, 129,  94],\n",
       "        [179, 142,  87],\n",
       "        ...,\n",
       "        [216, 184, 140],\n",
       "        [151, 118,  84],\n",
       "        [123,  92,  72]]], dtype=uint8)"
      ]
     },
     "execution_count": 4,
     "metadata": {},
     "output_type": "execute_result"
    }
   ],
   "source": [
    "#Take a look at the first image (at index=0) in the training data set as a numpy array. \n",
    "# This shows the image as a series of pixel values.\n",
    "\n",
    "x_train[0]\n",
    "\n"
   ]
  },
  {
   "cell_type": "code",
   "execution_count": 5,
   "metadata": {
    "collapsed": true
   },
   "outputs": [],
   "source": [
    "# Show the image as an image instead of a series of pixel values using matplotlib.\n",
    "import matplotlib.pyplot as plt\n",
    "img = plt.imshow(x_train[0])\n"
   ]
  },
  {
   "cell_type": "code",
   "execution_count": 6,
   "metadata": {},
   "outputs": [
    {
     "name": "stdout",
     "output_type": "stream",
     "text": [
      "The label is: [6]\n"
     ]
    }
   ],
   "source": [
    "#Print the label of the image. Notice the label printed was the number 6 this corresponds to the frog label.\n",
    "\n",
    "print('The label is:', y_train[0])"
   ]
  },
  {
   "cell_type": "code",
   "execution_count": 7,
   "metadata": {
    "collapsed": true
   },
   "outputs": [],
   "source": [
    "#Use One-Hot Encoding to convert the labels into a set of 10 numbers to input into the neural network. \n",
    "#The numbers of course corresponds with the number of labels to classify the images.\n",
    "from keras.utils import to_categorical\n",
    "y_train_one_hot = to_categorical(y_train)\n",
    "y_test_one_hot = to_categorical(y_test)"
   ]
  },
  {
   "cell_type": "code",
   "execution_count": 8,
   "metadata": {},
   "outputs": [
    {
     "name": "stdout",
     "output_type": "stream",
     "text": [
      "[[0. 0. 0. ... 0. 0. 0.]\n",
      " [0. 0. 0. ... 0. 0. 1.]\n",
      " [0. 0. 0. ... 0. 0. 1.]\n",
      " ...\n",
      " [0. 0. 0. ... 0. 0. 1.]\n",
      " [0. 1. 0. ... 0. 0. 0.]\n",
      " [0. 1. 0. ... 0. 0. 0.]]\n"
     ]
    }
   ],
   "source": [
    "#Print all of the new labels in the training data set.\n",
    "print(y_train_one_hot)"
   ]
  },
  {
   "cell_type": "code",
   "execution_count": 9,
   "metadata": {},
   "outputs": [
    {
     "name": "stdout",
     "output_type": "stream",
     "text": [
      "The one hot label is: [0. 0. 0. 0. 0. 0. 1. 0. 0. 0.]\n"
     ]
    }
   ],
   "source": [
    "#Print an example of the new labels using the first image in the training data set.\n",
    "\n",
    "#NOTE: The label 6 = [0,0,0,0,0,0,1,0,0,0]\n",
    "\n",
    "print('The one hot label is:', y_train_one_hot[0])"
   ]
  },
  {
   "cell_type": "code",
   "execution_count": 10,
   "metadata": {
    "collapsed": true
   },
   "outputs": [],
   "source": [
    "#Normalize the pixels in the images to be a value between 0 and 1 , \n",
    "#they are normally values between 0 and 255, doing this will help the neural network.\n",
    "x_train = x_train / 255\n",
    "x_test = x_test / 255\n"
   ]
  },
  {
   "cell_type": "code",
   "execution_count": 11,
   "metadata": {
    "collapsed": true
   },
   "outputs": [],
   "source": [
    "#Build The Convolution Neural Network Model\n",
    "#To build the model we need to create the architecture using Sequential() .\n",
    "from keras.models import Sequential\n",
    "from keras.layers import Dense, Flatten, Conv2D, MaxPooling2D\n",
    "model = Sequential()"
   ]
  },
  {
   "cell_type": "code",
   "execution_count": 12,
   "metadata": {
    "collapsed": true
   },
   "outputs": [],
   "source": [
    "#Next we add the first layer, a convolution layer to extract features from the input image, \n",
    "#and create 32 5 x 5 ReLu convoluted features also known as feature maps. \n",
    "#Since this is the first layer we must input the dimension shape which is a 32 x 32 pixel image with depth = 3 (RGB).\n",
    "\n",
    "model.add(Conv2D(32, (5, 5), activation='relu', input_shape=(32,32,3)))"
   ]
  },
  {
   "cell_type": "code",
   "execution_count": 13,
   "metadata": {
    "collapsed": true
   },
   "outputs": [],
   "source": [
    "#The next layer will be a pooling layer with a 2 x 2 pixel filter to get the max element from the feature maps.\n",
    "# This reduces the dimension of the feature maps by half and is also known as sub sampling.\n",
    "\n",
    "model.add(MaxPooling2D(pool_size=(2, 2)))"
   ]
  },
  {
   "cell_type": "code",
   "execution_count": 14,
   "metadata": {
    "collapsed": true
   },
   "outputs": [],
   "source": [
    "#Create one more convolution layer and pooling layer like before, but without the input_shape.\n",
    "model.add(Conv2D(64, (5, 5), activation='relu'))\n",
    "model.add(MaxPooling2D(pool_size=(2, 2)))"
   ]
  },
  {
   "cell_type": "code",
   "execution_count": 15,
   "metadata": {
    "collapsed": true
   },
   "outputs": [],
   "source": [
    "#Add a flattening layer, to reduce the image to a linear array also known as a one 1-Dimension vector to feed into and connect with the neural network.\n",
    "model.add(Flatten())"
   ]
  },
  {
   "cell_type": "code",
   "execution_count": 16,
   "metadata": {
    "collapsed": true
   },
   "outputs": [],
   "source": [
    "#Now create a neural network where the first layer has 1000 neurons and the activation function ReLu.\n",
    "model.add(Dense(1000, activation='relu'))"
   ]
  },
  {
   "cell_type": "code",
   "execution_count": 17,
   "metadata": {
    "collapsed": true
   },
   "outputs": [],
   "source": [
    "#Create the last layer of this neural network with 10 neurons (one for each label) using the softmax function.\n",
    "model.add(Dense(10, activation='softmax'))"
   ]
  },
  {
   "cell_type": "code",
   "execution_count": 18,
   "metadata": {
    "collapsed": true
   },
   "outputs": [],
   "source": [
    "#So the CNN should look like below when put together.\n",
    "\n",
    "from keras.models import Sequential\n",
    "from keras.layers import Dense, Flatten, Conv2D, MaxPooling2D\n",
    "model = Sequential() \n",
    "\n",
    "model.add(Conv2D(32, (5, 5), activation='relu', input_shape=(32,32,3)))\n",
    "model.add(MaxPooling2D(pool_size=(2, 2)))\n",
    "model.add(Conv2D(64, (5, 5), activation='relu'))\n",
    "model.add(MaxPooling2D(pool_size=(2, 2)))\n",
    "model.add(Flatten())\n",
    "model.add(Dense(1000, activation='relu'))\n",
    "model.add(Dense(10, activation='softmax'))"
   ]
  },
  {
   "cell_type": "code",
   "execution_count": 19,
   "metadata": {
    "collapsed": true
   },
   "outputs": [],
   "source": [
    "#compile the model. \n",
    "#Give it the categorical_crossentropy loss function which is used for classes greater than 2, the adam optimizer, and the accuracy of the model.\n",
    "model.compile(loss='categorical_crossentropy', \n",
    "              optimizer='adam',\n",
    "              metrics=['accuracy'])"
   ]
  },
  {
   "cell_type": "code",
   "execution_count": 20,
   "metadata": {},
   "outputs": [
    {
     "name": "stdout",
     "output_type": "stream",
     "text": [
      "Train on 35000 samples, validate on 15000 samples\n",
      "Epoch 1/10\n",
      "35000/35000 [==============================] - 42s 1ms/step - loss: 1.6406 - accuracy: 0.4030 - val_loss: 1.4439 - val_accuracy: 0.4771\n",
      "Epoch 2/10\n",
      "35000/35000 [==============================] - 42s 1ms/step - loss: 1.3128 - accuracy: 0.5290 - val_loss: 1.3198 - val_accuracy: 0.5294\n",
      "Epoch 3/10\n",
      "35000/35000 [==============================] - 37s 1ms/step - loss: 1.1764 - accuracy: 0.5835 - val_loss: 1.2313 - val_accuracy: 0.5655\n",
      "Epoch 4/10\n",
      "35000/35000 [==============================] - 38s 1ms/step - loss: 1.0502 - accuracy: 0.6301 - val_loss: 1.0921 - val_accuracy: 0.6135\n",
      "Epoch 5/10\n",
      "35000/35000 [==============================] - 37s 1ms/step - loss: 0.9527 - accuracy: 0.6687 - val_loss: 1.0705 - val_accuracy: 0.6272\n",
      "Epoch 6/10\n",
      "35000/35000 [==============================] - 45s 1ms/step - loss: 0.8753 - accuracy: 0.6959 - val_loss: 0.9853 - val_accuracy: 0.6534\n",
      "Epoch 7/10\n",
      "35000/35000 [==============================] - 41s 1ms/step - loss: 0.7924 - accuracy: 0.7239 - val_loss: 1.0008 - val_accuracy: 0.6536\n",
      "Epoch 8/10\n",
      "35000/35000 [==============================] - 34s 973us/step - loss: 0.7134 - accuracy: 0.7533 - val_loss: 0.9567 - val_accuracy: 0.6717\n",
      "Epoch 9/10\n",
      "35000/35000 [==============================] - 32s 923us/step - loss: 0.6294 - accuracy: 0.7834 - val_loss: 0.9530 - val_accuracy: 0.6767\n",
      "Epoch 10/10\n",
      "35000/35000 [==============================] - 33s 945us/step - loss: 0.5642 - accuracy: 0.8061 - val_loss: 1.0299 - val_accuracy: 0.6609\n"
     ]
    }
   ],
   "source": [
    "#Train the model using the fit() method, which is another word for train. \n",
    "#We will train the model on the training data with batch size =256, epochs =10, \n",
    "#and split the data into training on 70% of the data and using the other 30% as validation. \n",
    "#Training may take some time to finish.\n",
    "#Batch: Total number of training examples present in a single batch\n",
    "#Epoch:The number of iterations when an ENTIRE dataset is passed forward and backward through the neural network only ONCE.\n",
    "#Fit: Another word for train\n",
    "\n",
    "hist = model.fit(x_train, y_train_one_hot, \n",
    "           batch_size=256, epochs=10, validation_split=0.3 )"
   ]
  },
  {
   "cell_type": "code",
   "execution_count": 78,
   "metadata": {},
   "outputs": [
    {
     "name": "stdout",
     "output_type": "stream",
     "text": [
      "10000/10000 [==============================] - 3s 264us/step\n"
     ]
    },
    {
     "data": {
      "text/plain": [
       "0.6556000113487244"
      ]
     },
     "execution_count": 78,
     "metadata": {},
     "output_type": "execute_result"
    }
   ],
   "source": [
    "#Get the models accuracy on the test data.\n",
    "model.evaluate(x_test, y_test_one_hot)[1]"
   ]
  },
  {
   "cell_type": "code",
   "execution_count": 79,
   "metadata": {},
   "outputs": [
    {
     "data": {
      "image/png": "[encoded data removed]",
      "text/plain": [
       "<Figure size 432x288 with 1 Axes>"
      ]
     },
     "metadata": {},
     "output_type": "display_data"
    }
   ],
   "source": [
    "#Visualize the models accuracy for both the training and validation data.\n",
    "#Visualize the models accuracy\n",
    "plt.plot(hist.history['accuracy'])\n",
    "plt.plot(hist.history['val_accuracy'])\n",
    "plt.title('Model accuracy')\n",
    "plt.ylabel('Accuracy')\n",
    "plt.xlabel('Epoch')\n",
    "plt.legend(['Train', 'Val'], loc='upper left')\n",
    "plt.show()"
   ]
  },
  {
   "cell_type": "code",
   "execution_count": 80,
   "metadata": {},
   "outputs": [
    {
     "data": {
      "image/png": "[encoded data removed]",
      "text/plain": [
       "<Figure size 432x288 with 1 Axes>"
      ]
     },
     "metadata": {},
     "output_type": "display_data"
    }
   ],
   "source": [
    "#Visualize the models loss for both the training and validation data.\n",
    "#Visualize the models loss\n",
    "plt.plot(hist.history['loss'])\n",
    "plt.plot(hist.history['val_loss'])\n",
    "plt.title('Model loss')\n",
    "plt.ylabel('Loss')\n",
    "plt.xlabel('Epoch')\n",
    "plt.legend(['Train', 'Val'], loc='upper right')\n",
    "plt.show()"
   ]
  },
  {
   "cell_type": "code",
   "execution_count": 81,
   "metadata": {
    "collapsed": true
   },
   "outputs": [],
   "source": [
    "#Test The Model\n",
    "#Load the data that you want to classify from an image file into the variable my_image.\n",
    "#Load the data\n",
    "#from google.colab import files \n",
    "# Use to load data on Google Colab\n",
    "#uploaded = files.upload() # Use to load data on Google Colab\n",
    "my_image = plt.imread(\"truck.jpg\") #Read in the image (3, 14, 20)"
   ]
  },
  {
   "cell_type": "code",
   "execution_count": 82,
   "metadata": {
    "collapsed": true
   },
   "outputs": [],
   "source": [
    "#Show the uploaded image.\n",
    "img = plt.imshow(my_image)"
   ]
  },
  {
   "cell_type": "code",
   "execution_count": 83,
   "metadata": {
    "collapsed": true
   },
   "outputs": [],
   "source": [
    "#Resize the image to a 32 x 32 pixel image with depth = 3, and show the image.\n",
    "\n",
    "from skimage.transform import resize\n",
    "my_image_resized = resize(my_image, (32,32,3)) \n",
    "img = plt.imshow(my_image_resized) "
   ]
  },
  {
   "cell_type": "code",
   "execution_count": 84,
   "metadata": {
    "collapsed": true
   },
   "outputs": [],
   "source": [
    "#Get the probabilities for each class and store it into a variable.\n",
    "import numpy as np\n",
    "probabilities = model.predict(np.array( [my_image_resized,] ))"
   ]
  },
  {
   "cell_type": "code",
   "execution_count": 85,
   "metadata": {},
   "outputs": [
    {
     "data": {
      "text/plain": [
       "array([[5.7711013e-02, 6.1496613e-03, 6.6860172e-05, 1.4289071e-04,\n",
       "        4.9722003e-05, 9.8393675e-06, 9.3307830e-07, 2.9803074e-05,\n",
       "        8.2218885e-01, 1.1365044e-01]], dtype=float32)"
      ]
     },
     "execution_count": 85,
     "metadata": {},
     "output_type": "execute_result"
    }
   ],
   "source": [
    "#Show the probabilities\n",
    "probabilities"
   ]
  },
  {
   "cell_type": "code",
   "execution_count": 86,
   "metadata": {
    "collapsed": true
   },
   "outputs": [],
   "source": [
    "#Add the label of the classes to an array in the index of the labels corresponding equivalent number. \n",
    "#For example ‘airplane’ will be located at index=0 , because the corresponding label as a number is 0.\n",
    "number_to_class = ['airplane', 'automobile', 'bird', 'cat', 'deer', 'dog', 'frog', 'horse', 'ship', 'truck']"
   ]
  },
  {
   "cell_type": "code",
   "execution_count": 87,
   "metadata": {
    "collapsed": true
   },
   "outputs": [],
   "source": [
    "#Sort the probabilities from least to greatest such that the highest probability is at index=9 and the lowest probability is at index = 0.\n",
    "index = np.argsort(probabilities[0,:])"
   ]
  },
  {
   "cell_type": "code",
   "execution_count": 92,
   "metadata": {},
   "outputs": [
    {
     "name": "stdout",
     "output_type": "stream",
     "text": [
      "Most likely class: ship -- Probability: 0.82218885\n",
      "Second most likely class: truck -- Probability: 0.11365044\n",
      "Third most likely class: airplane -- Probability: 0.057711013\n",
      "Fourth most likely class: automobile -- Probability: 0.0061496613\n",
      "Fifth most likely class: cat -- Probability: 0.00014289071\n"
     ]
    }
   ],
   "source": [
    "#Print the first 5 most likely classes and the corresponding probability.\n",
    "print(\"Most likely class:\", number_to_class[index[9]], \"-- Probability:\", probabilities[0,index[9]])\n",
    "print(\"Second most likely class:\", number_to_class[index[8]], \"-- Probability:\", probabilities[0,index[8]])\n",
    "print(\"Third most likely class:\", number_to_class[index[7]], \"-- Probability:\", probabilities[0,index[7]])\n",
    "print(\"Fourth most likely class:\", number_to_class[index[6]], \"-- Probability:\", probabilities[0,index[6]])\n",
    "print(\"Fifth most likely class:\", number_to_class[index[5]], \"-- Probability:\", probabilities[0,index[5]])"
   ]
  },
  {
   "cell_type": "code",
   "execution_count": 74,
   "metadata": {
    "collapsed": true
   },
   "outputs": [],
   "source": [
    "#To save this model \n",
    "model.save('my_model.h5')"
   ]
  },
  {
   "cell_type": "code",
   "execution_count": 75,
   "metadata": {
    "collapsed": true
   },
   "outputs": [],
   "source": [
    "#To load this model\n",
    "from keras.models import load_model\n",
    "model = load_model('my_model.h5')"
   ]
  },
  {
   "cell_type": "code",
   "execution_count": null,
   "metadata": {
    "collapsed": true
   },
   "outputs": [],
   "source": []
  }
 ],
 "metadata": {
  "kernelspec": {
   "display_name": "Python 3",
   "language": "python",
   "name": "python3"
  },
  "language_info": {
   "codemirror_mode": {
    "name": "ipython",
    "version": 3
   },
   "file_extension": ".py",
   "mimetype": "text/x-python",
   "name": "python",
   "nbconvert_exporter": "python",
   "pygments_lexer": "ipython3",
   "version": "3.6.1"
  }
 },
 "nbformat": 4,
 "nbformat_minor": 2
}
